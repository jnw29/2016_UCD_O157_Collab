{
 "cells": [
  {
   "cell_type": "code",
   "execution_count": 1,
   "metadata": {
    "collapsed": true
   },
   "outputs": [],
   "source": [
    "import os"
   ]
  },
  {
   "cell_type": "code",
   "execution_count": 6,
   "metadata": {
    "collapsed": false
   },
   "outputs": [],
   "source": [
    "with open('./Sample ID Spreadsheets/biosample_result.txt', 'r') as f:\n",
    "    filetext = f.read()"
   ]
  },
  {
   "cell_type": "code",
   "execution_count": 20,
   "metadata": {
    "collapsed": true
   },
   "outputs": [],
   "source": [
    "with open('control-dupe.txt', 'r') as f:\n",
    "    cd = f.read().split(',')"
   ]
  },
  {
   "cell_type": "code",
   "execution_count": 9,
   "metadata": {
    "collapsed": false
   },
   "outputs": [
    {
     "name": "stdout",
     "output_type": "stream",
     "text": [
      "2. Pathogen: environmental/food/other sample from Escherichia coli\n",
      "Identifiers:\tBioSample: SAMN06005892; SRA: SRS1807806; CFSAN: CFSAN056451\n",
      "Organism:\tEscherichia coli\n",
      "\t\tstrain: UMDUCD-O157-2016-S20\n",
      "Package:\tPathogen: environmental/food/other; version 1.0\n",
      "Accession: SAMN06005892\tID: 6005892\n"
     ]
    }
   ],
   "source": [
    "print(filetext.split('\\n\\n')[1])"
   ]
  },
  {
   "cell_type": "code",
   "execution_count": 28,
   "metadata": {
    "collapsed": false
   },
   "outputs": [],
   "source": [
    "samples = filetext.split('\\n\\n')\n",
    "lst = {}\n",
    "for i in samples:\n",
    "    ID = i.split('O157-2016-')[1].split('\\n')[0]\n",
    "    if len(ID)==2:\n",
    "        ID = ID[0]+'0'+ID[1]\n",
    "    if ID in cd:\n",
    "        continue\n",
    "    CFSAN = i.split('CFSAN: ')[1].split('\\n')[0]\n",
    "    BS = i.split('BioSample: ')[1].split(';')[0]\n",
    "    SRA = i.split('SRA: ')[1].split(';')[0]\n",
    "    lst[ID] = [ID, BS, SRA, CFSAN]\n",
    "    "
   ]
  },
  {
   "cell_type": "code",
   "execution_count": 29,
   "metadata": {
    "collapsed": false
   },
   "outputs": [
    {
     "name": "stdout",
     "output_type": "stream",
     "text": [
      "S01\tSAMN06005825\tSRS1807821\tCFSAN056432\n",
      "S02\tSAMN06005824\tSRS1807820\tCFSAN056433\n",
      "S03\tSAMN06005823\tSRS1807819\tCFSAN056434\n",
      "S04\tSAMN06005822\tSRS1807813\tCFSAN056435\n",
      "S05\tSAMN06005821\tSRS1807815\tCFSAN056436\n",
      "S06\tSAMN06005820\tSRS1807811\tCFSAN056437\n",
      "S07\tSAMN06005819\tSRS1807818\tCFSAN056438\n",
      "S08\tSAMN06005818\tSRS1807814\tCFSAN056439\n",
      "S09\tSAMN06005817\tSRS1807817\tCFSAN056440\n",
      "S10\tSAMN06005816\tSRS1807816\tCFSAN056441\n",
      "S11\tSAMN06005815\tSRS1807812\tCFSAN056442\n",
      "S12\tSAMN06005814\tSRS1807810\tCFSAN056443\n",
      "S13\tSAMN06005813\tSRS1807809\tCFSAN056444\n",
      "S14\tSAMN06005812\tSRS1807808\tCFSAN056445\n",
      "S15\tSAMN06005811\tSRS1807801\tCFSAN056446\n",
      "S16\tSAMN06005810\tSRS1807807\tCFSAN056447\n",
      "S17\tSAMN06005809\tSRS1807804\tCFSAN056448\n",
      "S18\tSAMN06005808\tSRS1807803\tCFSAN056449\n",
      "S19\tSAMN06005893\tSRS1807805\tCFSAN056450\n",
      "S20\tSAMN06005892\tSRS1807806\tCFSAN056451\n",
      "S21\tSAMN06005891\tSRS1807802\tCFSAN056452\n",
      "S22\tSAMN06005890\tSRS1807800\tCFSAN056453\n",
      "S23\tSAMN06005889\tSRS1807799\tCFSAN056454\n",
      "S24\tSAMN06005888\tSRS1807798\tCFSAN056455\n",
      "S25\tSAMN06005887\tSRS1807792\tCFSAN056456\n",
      "S26\tSAMN06005886\tSRS1807796\tCFSAN056457\n",
      "S27\tSAMN06005885\tSRS1807795\tCFSAN056458\n",
      "S28\tSAMN06005884\tSRS1807797\tCFSAN056459\n",
      "S29\tSAMN06005883\tSRS1807791\tCFSAN056460\n",
      "S30\tSAMN06005882\tSRS1807794\tCFSAN056461\n",
      "S31\tSAMN06005881\tSRS1807793\tCFSAN056462\n",
      "S32\tSAMN06005880\tSRS1807789\tCFSAN056463\n",
      "S33\tSAMN06005879\tSRS1807790\tCFSAN056464\n",
      "S34\tSAMN06005878\tSRS1807787\tCFSAN056465\n",
      "S37\tSAMN06005875\tSRS1807785\tCFSAN056468\n",
      "S39\tSAMN06005873\tSRS1807780\tCFSAN056470\n",
      "S41\tSAMN06005871\tSRS1807783\tCFSAN056472\n",
      "S43\tSAMN06005869\tSRS1807779\tCFSAN056474\n",
      "S45\tSAMN06005866\tSRS1807773\tCFSAN056476\n",
      "S47\tSAMN06005864\tSRS1807775\tCFSAN056478\n",
      "S48\tSAMN06005863\tSRS1807776\tCFSAN056479\n",
      "S51\tSAMN06005860\tSRS1807771\tCFSAN056482\n",
      "S52\tSAMN06005859\tSRS1807770\tCFSAN056483\n",
      "S55\tSAMN06005856\tSRS1807767\tCFSAN056486\n",
      "S56\tSAMN06005855\tSRS1807760\tCFSAN056487\n",
      "S57\tSAMN06005854\tSRS1807765\tCFSAN056488\n",
      "S58\tSAMN06005853\tSRS1807757\tCFSAN056489\n",
      "S59\tSAMN06005852\tSRS1807763\tCFSAN056490\n",
      "S60\tSAMN06005851\tSRS1807758\tCFSAN056491\n",
      "S61\tSAMN06005850\tSRS1807761\tCFSAN056492\n",
      "S62\tSAMN06005849\tSRS1807764\tCFSAN056493\n",
      "S64\tSAMN06005847\tSRS1807762\tCFSAN056495\n",
      "S65\tSAMN06005846\tSRS1807766\tCFSAN056496\n",
      "S67\tSAMN06005845\tSRS1807756\tCFSAN056497\n",
      "S73\tSAMN06005841\tSRS1807752\tCFSAN056501\n",
      "S74\tSAMN06005840\tSRS1807751\tCFSAN056502\n",
      "S75\tSAMN06005839\tSRS1807750\tCFSAN056503\n",
      "S76\tSAMN06005838\tSRS1807748\tCFSAN056504\n",
      "S77\tSAMN06005837\tSRS1807749\tCFSAN056505\n",
      "S78\tSAMN06005836\tSRS1807746\tCFSAN056506\n",
      "S79\tSAMN06005835\tSRS1807747\tCFSAN056507\n",
      "S80\tSAMN06005834\tSRS1807745\tCFSAN056508\n",
      "S81\tSAMN06005833\tSRS1807744\tCFSAN056509\n",
      "S82\tSAMN06005832\tSRS1807743\tCFSAN056510\n",
      "S83\tSAMN06005831\tSRS1807740\tCFSAN056511\n",
      "S84\tSAMN06005830\tSRS1807741\tCFSAN056512\n",
      "S85\tSAMN06005829\tSRS1807739\tCFSAN056513\n",
      "S86\tSAMN06005828\tSRS1807737\tCFSAN056514\n",
      "S87\tSAMN06005827\tSRS1807738\tCFSAN056515\n"
     ]
    }
   ],
   "source": [
    "for item in sorted(lst.keys()):\n",
    "    print('\\t'.join(lst[item]))"
   ]
  },
  {
   "cell_type": "code",
   "execution_count": null,
   "metadata": {
    "collapsed": true
   },
   "outputs": [],
   "source": []
  }
 ],
 "metadata": {
  "kernelspec": {
   "display_name": "Python 3",
   "language": "python",
   "name": "python3"
  },
  "language_info": {
   "codemirror_mode": {
    "name": "ipython",
    "version": 3
   },
   "file_extension": ".py",
   "mimetype": "text/x-python",
   "name": "python",
   "nbconvert_exporter": "python",
   "pygments_lexer": "ipython3",
   "version": "3.5.0"
  }
 },
 "nbformat": 4,
 "nbformat_minor": 0
}
