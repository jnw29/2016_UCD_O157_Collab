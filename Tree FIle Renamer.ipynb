{
 "cells": [
  {
   "cell_type": "code",
   "execution_count": 1,
   "metadata": {
    "collapsed": true
   },
   "outputs": [],
   "source": [
    "import os"
   ]
  },
  {
   "cell_type": "code",
   "execution_count": 2,
   "metadata": {
    "collapsed": false
   },
   "outputs": [
    {
     "name": "stdout",
     "output_type": "stream",
     "text": [
      "['RAxML_bestTree.Core2', 'RAxML_bestTree.NonCore']\n"
     ]
    }
   ],
   "source": [
    "treedir='./RAxML_NDC/Trees/ToUse/'\n",
    "trees = [i for i in os.listdir(treedir) if 'bestTree' in i]\n",
    "print(trees)"
   ]
  },
  {
   "cell_type": "code",
   "execution_count": 3,
   "metadata": {
    "collapsed": true
   },
   "outputs": [],
   "source": [
    "#This is an old list, but can be modified instead of rewritten easily enough\n",
    "changes = [('S1_S11_L001_R1_001','S01_A_May-2012_Cow'),\n",
    "           ('S2_S12_L001_R1_001','S02_A_May-2012_Cow'),\n",
    "           ('S3_S27_L001_R1_001','S03_A_May-2012_Cow'),\n",
    "           ('S4_S25_L001_R1_001','S04_A_May-2012_Cow'),\n",
    "           ('S5_S13_L001_R1_001','S05_A_May-2012_Cow'),\n",
    "           ('S6_S12_L001_R1_001','S06_A_May-2012_Cow'),\n",
    "           ('S7_S18_L001_R1_001','S07_A_May-2012_Cow'),\n",
    "           ('S8_S23_L001_R1_001','S08_A_May-2012_Cow'),\n",
    "           ('S9_S14_L001_R1_001','S09_A_May-2012_Cow'),\n",
    "           ('S10_S7_L001_R1_001','S10_A_May-2012_Cow'),\n",
    "           ('S11_S12_L001_R1_001','S11_A_May-2012_Cow'),\n",
    "           ('S12_S6_L001_R1_001','S12_A_May-2012_Cow'),\n",
    "           ('S13_S29_L001_R1_001','S13_A_May-2012_Cow'),\n",
    "           ('S14_S24_L001_R1_001','S14_A_May-2012_Cow'),\n",
    "           ('S15_S1_L001_R1_001','S15_A_May-2012_Cow'),\n",
    "           ('S16_S2_L001_R1_001','S16_A_May-2012_Cow'),\n",
    "           ('S17_S14_L001_R1_001','S17_A_May-2012_Cow'),\n",
    "           ('S18_S15_L001_R1_001','S18_A_May-2012_Cow'),\n",
    "           ('S19_S32_L001_R1_001','S19_A_May-2012_Cow'),\n",
    "           ('S20_S32_L001_R1_001','S20_A_May-2012_Cow'),\n",
    "           ('S21_S5_L001_R1_001','S21_A_May-2012_Bull-calf'),\n",
    "           ('S22_S9_L001_R1_001','S22_A_May-2012_Bull-calf'),\n",
    "           ('S23_S2_L001_R1_001','S23_A_May-2012_Bull-calf'),\n",
    "           ('S24_S10_L001_R1_001','S24_A_May-2012_Bull-calf'),\n",
    "           ('S25_S13_L001_R1_001','S25_A_May-2012_Bull-calf'),\n",
    "           ('S26_S5_L001_R1_001','S26_A_May-2012_Bull-calf'),\n",
    "           ('S27_S21_L001_R1_001','S27_A_May-2012_Bull-calf'),\n",
    "           ('S28_S17_L001_R1_001','S28_A_May-2012_Bull-calf'),\n",
    "           ('S29_S17_L001_R1_001','S29_A_May-2012_Bull-calf'),\n",
    "           ('S30_S11_L001_R1_001','S30_A_May-2012_Bull-calf'),\n",
    "           ('S31_S19_L001_R1_001','S31_A_May-2012_Bull-calf'),\n",
    "           ('S32_S30_L001_R1_001','S32_A_May-2012_Bull-calf'),\n",
    "           ('S33_S22_L001_R1_001','S33_A_May-2012_Bull-calf'),\n",
    "           ('S34_S8_L001_R1_001','S34_A_May-2012_Bull-calf'),\n",
    "           ('S35_S16_L001_R1_001','S35_A_May-2012_Bull-calf'),\n",
    "           ('S36_S24_L001_R1_001','S36_A_May-2012_Bull-calf'),\n",
    "           ('S37_S33_L001_R1_001','S37_B_May-2012_Calf'),\n",
    "           ('S38_S4_L001_R1_001','S38_E_May-2012_Calf'),\n",
    "           ('S39_S2_L001_R1_001','S39_E_May-2012_Calf'),\n",
    "           ('S40_S9_L001_R1_001','S40_E_May-2012_Calf'),\n",
    "           ('S41_S20_L001_R1_001','S41_E_May-2012_Calf'),\n",
    "           ('S42_S4_L001_R1_001','S42_E_May-2012_Calf'),\n",
    "           ('S43_S6_L001_R1_001','S43_P_Dec-2012_Cow'),\n",
    "           ('S44_S16_L001_R1_001','S44_P_Dec-2012_Cow'),\n",
    "           ('S45_S4_L001_R1_001','S45_P_Dec-2012_Cow'),\n",
    "           ('S46_S5_L001_R1_001','S46_P_Dec-2012_Cow'),\n",
    "           ('S47_S31_L001_R1_001','S47_P_Dec-2012_Cow'),\n",
    "           ('S48_S3_L001_R1_001','S48_P_Dec-2012_Cow'),\n",
    "           ('S49_S18_L001_R1_001','S49_P_Dec-2012_Cow'),\n",
    "           ('S50_S6_L001_R1_001','S50_P_Dec-2012_Cow'),\n",
    "           ('S51_S3_L001_R1_001','S51_P_Dec-2012_Cow'),\n",
    "           ('S52_S11_L001_R1_001','S52_P_Dec-2012_Cow'),\n",
    "           ('S53_S19_L001_R1_001','S53_P_Dec-2012_Cow'),\n",
    "           ('S55_S15_L001_R1_001','S55_P_Dec-2012_Cow'),\n",
    "           ('S56_S14_L001_R1_001','S56_P_Dec-2012_Cow'),\n",
    "           ('S57_S8_L001_R1_001','S57_P_Dec-2012_Calf'),\n",
    "           ('S58_S21_L001_R1_001','S58_P_Dec-2012_Calf'),\n",
    "           ('S59_S28_L001_R1_001','S59_P_Dec-2012_Calf'),\n",
    "           ('S60_S23_L001_R1_001','S60_P_Dec-2012_Calf'),\n",
    "           ('S61_S15_L001_R1_001','S61_P_Dec-2012_Calf'),\n",
    "           ('S62_S18_L001_R1_001','S62_P_Dec-2012_Calf'),\n",
    "           ('S63_S20_L001_R1_001','S63_P_Dec-2012_Calf'),\n",
    "           ('S64_S22_L001_R1_001','S64_P_Dec-2012_Calf'),\n",
    "           ('S65_S13_L001_R1_001','S65_P_Dec-2012_Calf'),\n",
    "           ('S67_S3_L001_R1_001','S67_Q_Dec-2012_Calf'),\n",
    "           ('S68_S17_L001_R1_001','S68_Q_Dec-2012_Calf'),\n",
    "           ('S71_S10_L001_R1_001','S71_Q_Dec-2012_Calf'),\n",
    "           ('S72_S7_L001_R1_001','S72_Q_Dec-2012_Cow'),\n",
    "           ('S73_S16_L001_R1_001','S73_R_Dec-2012_Cow'),\n",
    "           ('S74_S26_L001_R1_001','S74_A_May-2012_Cow'),\n",
    "           ('7_S75_L001_R1_001','S75_Q_Jan-2013_Calf'),\n",
    "           ('6_S76_L001_R1_001','S76_Q_Jan-2013_Calf'),\n",
    "           ('8_S77_L001_R1_001','S77_E_Feb-2013_Calf'),\n",
    "           ('2_S78_L001_R1_001','S78_E_Feb-2013_Cow'),\n",
    "           ('12_S79_L001_R1_001','S79_E_Feb-2013_Cow'),\n",
    "           ('9_S80_L001_R1_001','S80_N_Feb-2013_Cow'),\n",
    "           ('13_S81_L001_R1_001','S81_N_Feb-2013_Calf'),\n",
    "           ('11_S82_L001_R1_001','S82_N_Feb-2013_Cow'),\n",
    "           ('4_S83_L001_R1_001','S83_C_Feb-2013_Cow'),\n",
    "           ('5_S84_L001_R1_001','S84_C_Feb-2013_Calf'),\n",
    "           ('3_S85_L001_R1_001','S85_A_Apr-2013_Cow'),\n",
    "           ('1_S86_L001_R1_001','S86_A_Apr-2013_Cow'),\n",
    "           ('14_S87_L001_R1_001','S87_S_Jun-2013_Calf'),\n",
    "           ('10_S88_L001_R1_001','S88_S_Jun-2013_Calf')]"
   ]
  },
  {
   "cell_type": "code",
   "execution_count": 10,
   "metadata": {
    "collapsed": false
   },
   "outputs": [],
   "source": [
    "#make a new 'Changes' file\n",
    "treechanges = [i[1] for i in changes]\n",
    "treedict1 = {}\n",
    "for item in treechanges:\n",
    "    treedict1[item.split('_')[0]] = item"
   ]
  },
  {
   "cell_type": "code",
   "execution_count": 22,
   "metadata": {
    "collapsed": false
   },
   "outputs": [
    {
     "name": "stdout",
     "output_type": "stream",
     "text": [
      "['RAxML_bestTree.Core2', 'RAxML_bestTree.NonCore']\n"
     ]
    }
   ],
   "source": [
    "updates = {'_P_Dec-2012':'_P_Nov-2012','_Q_Dec-2012':'_Q_Nov-2012', 'S82_N_Feb-2013_Cow':'S82_C_Feb-2013_Cow', }\n",
    "print(trees)"
   ]
  },
  {
   "cell_type": "code",
   "execution_count": 23,
   "metadata": {
    "collapsed": false
   },
   "outputs": [],
   "source": [
    "#Needs to go - what is the string? What is the new string? Does the new string need mod?\n",
    "\n",
    "with open(treedir+'RAxML_bestTree.Core2', 'r') as f:\n",
    "    filetext = f.read()\n",
    "for item in treedict1:\n",
    "    if item in filetext:\n",
    "        newname = treedict1[item]\n",
    "        for jtem in updates:\n",
    "            if jtem in newname:\n",
    "                newname = newname.replace(jtem, updates[jtem])\n",
    "        filetext = filetext.replace(item, newname)\n",
    "with open(treedir+'RAxML_bestTree.Core2mod', 'w') as f:\n",
    "    f.write(filetext)"
   ]
  },
  {
   "cell_type": "code",
   "execution_count": 25,
   "metadata": {
    "collapsed": true
   },
   "outputs": [],
   "source": [
    "with open(treedir+'RAxML_bestTree.NonCore', 'r') as f:\n",
    "    filetext = f.read()\n",
    "for item in updates:\n",
    "    filetext = filetext.replace(item, updates[item])\n",
    "with open(treedir+'RAxML_bestTree.NonCoremod', 'w') as f:\n",
    "    f.write(filetext)"
   ]
  },
  {
   "cell_type": "code",
   "execution_count": null,
   "metadata": {
    "collapsed": true
   },
   "outputs": [],
   "source": [
    "oldtree = open('RAxML_bestTree.no_refs_runs_1_AUTOMREboot_GTRGAMMA','r')\n",
    "oldstr = oldtree.read()\n",
    "strlist = [(i+':') for i in oldstr.split(':')]\n",
    "strlist[-1] = strlist[-1][:-1]\n",
    "for i in range (0,len(strlist)):\n",
    "    for j in changes:\n",
    "        if j[0] in strlist[i]:\n",
    "            strlist[i] = strlist[i].replace(j[0],j[1])"
   ]
  },
  {
   "cell_type": "code",
   "execution_count": 17,
   "metadata": {
    "collapsed": false
   },
   "outputs": [
    {
     "name": "stdout",
     "output_type": "stream",
     "text": [
      "{'S50': 'S50_P_Dec-2012_Cow', 'S51': 'S51_P_Dec-2012_Cow', 'S09': 'S09_A_May-2012_Cow', 'S42': 'S42_E_May-2012_Calf', 'S22': 'S22_A_May-2012_Bull-calf', 'S16': 'S16_A_May-2012_Cow', 'S58': 'S58_P_Dec-2012_Calf', 'S59': 'S59_P_Dec-2012_Calf', 'S02': 'S02_A_May-2012_Cow', 'S57': 'S57_P_Dec-2012_Calf', 'S71': 'S71_Q_Dec-2012_Calf', 'S63': 'S63_P_Dec-2012_Calf', 'S18': 'S18_A_May-2012_Cow', 'S07': 'S07_A_May-2012_Cow', 'S36': 'S36_A_May-2012_Bull-calf', 'S13': 'S13_A_May-2012_Cow', 'S25': 'S25_A_May-2012_Bull-calf', 'S72': 'S72_Q_Dec-2012_Cow', 'S65': 'S65_P_Dec-2012_Calf', 'S56': 'S56_P_Dec-2012_Cow', 'S12': 'S12_A_May-2012_Cow', 'S37': 'S37_B_May-2012_Calf', 'S46': 'S46_P_Dec-2012_Cow', 'S61': 'S61_P_Dec-2012_Calf', 'S19': 'S19_A_May-2012_Cow', 'S38': 'S38_E_May-2012_Calf', 'S77': 'S77_E_Feb-2013_Calf', 'S82': 'S82_N_Feb-2013_Cow', 'S83': 'S83_C_Feb-2013_Cow', 'S68': 'S68_Q_Dec-2012_Calf', 'S75': 'S75_Q_Jan-2013_Calf', 'S24': 'S24_A_May-2012_Bull-calf', 'S48': 'S48_P_Dec-2012_Cow', 'S30': 'S30_A_May-2012_Bull-calf', 'S05': 'S05_A_May-2012_Cow', 'S40': 'S40_E_May-2012_Calf', 'S74': 'S74_A_May-2012_Cow', 'S31': 'S31_A_May-2012_Bull-calf', 'S52': 'S52_P_Dec-2012_Cow', 'S80': 'S80_N_Feb-2013_Cow', 'S33': 'S33_A_May-2012_Bull-calf', 'S20': 'S20_A_May-2012_Cow', 'S23': 'S23_A_May-2012_Bull-calf', 'S85': 'S85_A_Apr-2013_Cow', 'S21': 'S21_A_May-2012_Bull-calf', 'S01': 'S01_A_May-2012_Cow', 'S28': 'S28_A_May-2012_Bull-calf', 'S53': 'S53_P_Dec-2012_Cow', 'S15': 'S15_A_May-2012_Cow', 'S26': 'S26_A_May-2012_Bull-calf', 'S81': 'S81_N_Feb-2013_Calf', 'S79': 'S79_E_Feb-2013_Cow', 'S49': 'S49_P_Dec-2012_Cow', 'S55': 'S55_P_Dec-2012_Cow', 'S41': 'S41_E_May-2012_Calf', 'S11': 'S11_A_May-2012_Cow', 'S10': 'S10_A_May-2012_Cow', 'S08': 'S08_A_May-2012_Cow', 'S03': 'S03_A_May-2012_Cow', 'S14': 'S14_A_May-2012_Cow', 'S62': 'S62_P_Dec-2012_Calf', 'S06': 'S06_A_May-2012_Cow', 'S17': 'S17_A_May-2012_Cow', 'S64': 'S64_P_Dec-2012_Calf', 'S88': 'S88_S_Jun-2013_Calf', 'S84': 'S84_C_Feb-2013_Calf', 'S78': 'S78_E_Feb-2013_Cow', 'S04': 'S04_A_May-2012_Cow', 'S87': 'S87_S_Jun-2013_Calf', 'S76': 'S76_Q_Jan-2013_Calf', 'S44': 'S44_P_Dec-2012_Cow', 'S29': 'S29_A_May-2012_Bull-calf', 'S47': 'S47_P_Dec-2012_Cow', 'S34': 'S34_A_May-2012_Bull-calf', 'S86': 'S86_A_Apr-2013_Cow', 'S39': 'S39_E_May-2012_Calf', 'S45': 'S45_P_Dec-2012_Cow', 'S35': 'S35_A_May-2012_Bull-calf', 'S67': 'S67_Q_Dec-2012_Calf', 'S32': 'S32_A_May-2012_Bull-calf', 'S43': 'S43_P_Dec-2012_Cow', 'S60': 'S60_P_Dec-2012_Calf', 'S27': 'S27_A_May-2012_Bull-calf', 'S73': 'S73_R_Dec-2012_Cow'}\n"
     ]
    }
   ],
   "source": [
    "print(treedict1)"
   ]
  },
  {
   "cell_type": "code",
   "execution_count": null,
   "metadata": {
    "collapsed": true
   },
   "outputs": [],
   "source": []
  }
 ],
 "metadata": {
  "kernelspec": {
   "display_name": "Python 3",
   "language": "python",
   "name": "python3"
  },
  "language_info": {
   "codemirror_mode": {
    "name": "ipython",
    "version": 3
   },
   "file_extension": ".py",
   "mimetype": "text/x-python",
   "name": "python",
   "nbconvert_exporter": "python",
   "pygments_lexer": "ipython3",
   "version": "3.5.0"
  }
 },
 "nbformat": 4,
 "nbformat_minor": 0
}
