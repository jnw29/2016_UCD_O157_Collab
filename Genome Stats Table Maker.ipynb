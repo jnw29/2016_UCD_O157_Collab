{
 "cells": [
  {
   "cell_type": "code",
   "execution_count": 6,
   "metadata": {
    "collapsed": true
   },
   "outputs": [],
   "source": [
    "import os\n",
    "import openpyxl\n",
    "from openpyxl import Workbook\n",
    "from Bio import SeqIO"
   ]
  },
  {
   "cell_type": "code",
   "execution_count": 18,
   "metadata": {
    "collapsed": false
   },
   "outputs": [],
   "source": [
    "wb = Workbook()\n",
    "ws = wb.create_sheet(0)\n",
    "r = 1\n",
    "att = ['Genome', 'Total Sequence', 'Contigs', 'N50', 'N50 Rank', 'Average Coverage']\n",
    "for item in att:\n",
    "    ws.cell(row = r, column = att.index(item)+1).value = item\n",
    "for file in os.listdir('./Genomes'):\n",
    "    lens = []\n",
    "    covs = []\n",
    "    covproduct = []\n",
    "    N50=0\n",
    "    N50r=0\n",
    "    if (('S66' and 'S69' and 'S70') not in file) and file.endswith('.fasta'):\n",
    "        r += 1\n",
    "        for record in SeqIO.parse('./Genomes/'+file, 'fasta'):\n",
    "            lens.append(len(record.seq))\n",
    "            covs.append(float(record.description.split('_')[-3]))\n",
    "        ws.cell(row = r, column=1).value = file.split('_')[0]\n",
    "        totbases = sum(lens)\n",
    "        ws.cell(row = r, column=2).value = totbases\n",
    "        ws.cell(row = r, column=3).value = len(lens)\n",
    "        for i in range(len(covs)):\n",
    "            covproduct.append(covs[i]*lens[i])\n",
    "        avcov = sum(covproduct)/totbases\n",
    "        ws.cell(row = r, column=6).value = avcov\n",
    "        sortlens = sorted(lens, reverse = True)\n",
    "        total=0\n",
    "        for item in sortlens:\n",
    "            total += item\n",
    "            if total >= (totbases/2):\n",
    "                N50 = item\n",
    "                N50r = sortlens.index(item)+1\n",
    "                break\n",
    "        ws.cell(row = r, column = 4).value = N50\n",
    "        ws.cell(row = r, column = 5).value = N50r\n",
    "wb.save('Sequencing_Quality.xlsx')\n",
    "        \n",
    "        "
   ]
  },
  {
   "cell_type": "code",
   "execution_count": 15,
   "metadata": {
    "collapsed": false
   },
   "outputs": [
    {
     "name": "stdout",
     "output_type": "stream",
     "text": [
      "[128, 133, 133, 133, 134, 138, 139, 142, 147, 148, 152, 159, 161, 163, 178, 180, 203, 203, 203, 212, 214, 215, 219, 222, 222, 225, 234, 235, 239, 239, 239, 243, 243, 246, 248, 249, 252, 254, 255, 255, 268, 270, 278, 279, 293, 293, 296, 306, 318, 332, 340, 348, 360, 360, 360, 363, 370, 376, 385, 386, 388, 388, 393, 397, 398, 400, 401, 401, 402, 418, 424, 425, 453, 453, 473, 477, 516, 530, 530, 547, 551, 551, 552, 553, 555, 558, 564, 570, 571, 574, 576, 590, 593, 593, 593, 595, 597, 612, 626, 627, 627, 633, 637, 637, 655, 655, 657, 660, 664, 664, 665, 667, 668, 668, 670, 672, 672, 680, 693, 704, 720, 726, 732, 746, 749, 749, 761, 792, 802, 844, 845, 852, 860, 878, 894, 915, 915, 918, 942, 947, 952, 954, 959, 965, 974, 979, 984, 998, 1006, 1016, 1026, 1026, 1035, 1043, 1058, 1077, 1082, 1095, 1099, 1150, 1214, 1246, 1254, 1275, 1275, 1331, 1418, 1422, 1508, 1524, 1553, 1601, 1646, 1698, 1698, 1761, 1780, 1780, 1917, 1923, 1946, 1955, 2002, 2038, 2077, 2124, 2164, 2248, 2414, 2430, 2465, 2568, 2644, 2702, 2735, 2747, 2766, 2790, 2817, 3033, 3057, 3091, 3306, 3407, 3433, 3457, 3468, 3544, 3557, 3596, 3805, 3956, 4135, 4143, 4261, 4362, 4401, 4475, 4587, 5002, 5383, 5511, 5565, 5729, 5961, 5997, 6328, 6567, 6574, 7121, 7218, 7347, 7458, 7645, 9321, 9682, 9941, 10445, 10860, 12980, 13668, 13743, 15946, 15973, 16123, 23254, 25123, 26108, 26324, 29536, 30808, 30852, 33151, 38608, 40976, 42867, 43639, 44424, 44762, 44802, 45096, 47281, 66649, 74114, 80623, 91430, 92366, 94506, 94934, 96110, 100768, 105351, 125029, 142785, 145662, 146881, 150801, 160725, 241389, 269485, 288799, 314108, 356977, 364292, 375701, 398282]\n"
     ]
    }
   ],
   "source": [
    "print(sortlens)"
   ]
  },
  {
   "cell_type": "code",
   "execution_count": null,
   "metadata": {
    "collapsed": true
   },
   "outputs": [],
   "source": []
  }
 ],
 "metadata": {
  "kernelspec": {
   "display_name": "Python 3",
   "language": "python",
   "name": "python3"
  },
  "language_info": {
   "codemirror_mode": {
    "name": "ipython",
    "version": 3
   },
   "file_extension": ".py",
   "mimetype": "text/x-python",
   "name": "python",
   "nbconvert_exporter": "python",
   "pygments_lexer": "ipython3",
   "version": "3.5.0"
  }
 },
 "nbformat": 4,
 "nbformat_minor": 0
}
