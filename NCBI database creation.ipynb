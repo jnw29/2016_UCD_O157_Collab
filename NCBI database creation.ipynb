{
 "cells": [
  {
   "cell_type": "markdown",
   "metadata": {},
   "source": [
    "Creates a large, concatenated FASTA file for the FASTA database.\n",
    "\n",
    "Genome contigs renamed with sample number, then contig name. For instance:\n",
    "\n",
    "S88-Node30"
   ]
  },
  {
   "cell_type": "code",
   "execution_count": 12,
   "metadata": {
    "collapsed": false
   },
   "outputs": [],
   "source": [
    "import os\n",
    "import Bio\n",
    "from Bio import SeqIO\n",
    "from Bio.Seq import Seq\n",
    "from Bio.Alphabet import IUPAC\n",
    "from Bio.SeqRecord import SeqRecord"
   ]
  },
  {
   "cell_type": "code",
   "execution_count": 18,
   "metadata": {
    "collapsed": false
   },
   "outputs": [
    {
     "data": {
      "text/plain": [
       "<function TextIOWrapper.close>"
      ]
     },
     "execution_count": 18,
     "metadata": {},
     "output_type": "execute_result"
    }
   ],
   "source": [
    "SeqRecordList = []\n",
    "#Make a list of seqrecords, then write to a file in folder BLAST_DB\n",
    "for file in os.listdir('.'):\n",
    "    if file.endswith('.fasta'):\n",
    "        for item in SeqIO.parse(file, 'fasta'):\n",
    "            item.id = (file.split('_')[0])+'('+''.join(item.id.split('_')[0:2])+')'\n",
    "            item.id = item.id.replace('NODE','NODE_')\n",
    "            item.description = ''\n",
    "            SeqRecordList.append(item)\n",
    "outfile = open('DavisDB.fasta','w')\n",
    "SeqIO.write(SeqRecordList, outfile, 'fasta')\n",
    "outfile.close\n"
   ]
  },
  {
   "cell_type": "code",
   "execution_count": 19,
   "metadata": {
    "collapsed": false
   },
   "outputs": [
    {
     "name": "stdout",
     "output_type": "stream",
     "text": [
      "S88(NODE286)\n"
     ]
    }
   ],
   "source": [
    "print(''.join(item.id.split('_')[0:2]))"
   ]
  },
  {
   "cell_type": "code",
   "execution_count": 20,
   "metadata": {
    "collapsed": false
   },
   "outputs": [
    {
     "name": "stdout",
     "output_type": "stream",
     "text": [
      "ID: S88(NODE_286)\n",
      "Name: NODE_286_length_128_cov_2645_ID_18548\n",
      "Number of features: 0\n",
      "Seq('CCCCCCCCCCCCCCCCCCCCCCCCCCCCCCCCCCCCCCCCCCCCCCCCCCCCCC...CCC', SingleLetterAlphabet())\n"
     ]
    }
   ],
   "source": [
    "print(item)"
   ]
  },
  {
   "cell_type": "code",
   "execution_count": null,
   "metadata": {
    "collapsed": true
   },
   "outputs": [],
   "source": []
  }
 ],
 "metadata": {
  "kernelspec": {
   "display_name": "Python 3",
   "language": "python",
   "name": "python3"
  },
  "language_info": {
   "codemirror_mode": {
    "name": "ipython",
    "version": 3
   },
   "file_extension": ".py",
   "mimetype": "text/x-python",
   "name": "python",
   "nbconvert_exporter": "python",
   "pygments_lexer": "ipython3",
   "version": "3.4.3"
  }
 },
 "nbformat": 4,
 "nbformat_minor": 0
}
