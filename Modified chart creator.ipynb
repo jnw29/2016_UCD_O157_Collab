{
 "cells": [
  {
   "cell_type": "code",
   "execution_count": 1,
   "metadata": {
    "collapsed": false
   },
   "outputs": [],
   "source": [
    "import os\n",
    "from openpyxl import Workbook\n",
    "from openpyxl import load_workbook as lw\n",
    "from openpyxl.styles import Color, PatternFill, Style\n",
    "import pandas as pd"
   ]
  },
  {
   "cell_type": "code",
   "execution_count": 2,
   "metadata": {
    "collapsed": false
   },
   "outputs": [],
   "source": [
    "vwb = lw(filename='./../database_files/Escherichia_VFs_comparsion.xlsx', read_only = True)\n",
    "vs = vwb['VFs_comparison']"
   ]
  },
  {
   "cell_type": "code",
   "execution_count": 3,
   "metadata": {
    "collapsed": false
   },
   "outputs": [],
   "source": [
    "#phyl is a list of the things in the phylogentic tree order\n",
    "with open('./../Phylo_tree_order.txt', 'r') as PO:\n",
    "    phyo = PO.read()\n",
    "PO.close\n",
    "phyl = phyo.split('\\n')"
   ]
  },
  {
   "cell_type": "code",
   "execution_count": 4,
   "metadata": {
    "collapsed": false
   },
   "outputs": [],
   "source": [
    "vglist = []\n",
    "for i in range(4, vs.max_row):\n",
    "    vg = None\n",
    "    vg = vs['B'+str(i)].value\n",
    "    if vg == None:\n",
    "        vg = vs['A'+str(i)].value\n",
    "    else:\n",
    "        pass\n",
    "    vglist.append(vg)\n"
   ]
  },
  {
   "cell_type": "code",
   "execution_count": 6,
   "metadata": {
    "collapsed": false
   },
   "outputs": [],
   "source": [
    "obw = lw(filename = 'VFDB_PRO_BLAST_TABLE.xlsx', read_only = True)\n",
    "obs = obw['In Text Figure']"
   ]
  },
  {
   "cell_type": "code",
   "execution_count": 7,
   "metadata": {
    "collapsed": false
   },
   "outputs": [
    {
     "name": "stdout",
     "output_type": "stream",
     "text": [
      "2\n",
      "3\n",
      "4\n",
      "5\n",
      "6\n",
      "7\n",
      "8\n",
      "9\n",
      "10\n",
      "11\n",
      "12\n",
      "13\n",
      "14\n",
      "15\n",
      "16\n",
      "17\n",
      "18\n",
      "19\n",
      "20\n",
      "21\n",
      "22\n",
      "23\n",
      "24\n",
      "25\n",
      "26\n",
      "27\n",
      "28\n",
      "29\n",
      "30\n",
      "31\n",
      "32\n",
      "33\n",
      "34\n",
      "35\n",
      "36\n",
      "37\n",
      "38\n",
      "39\n",
      "40\n",
      "41\n",
      "42\n",
      "43\n",
      "44\n",
      "45\n",
      "46\n",
      "47\n",
      "48\n",
      "49\n",
      "50\n",
      "51\n",
      "52\n",
      "53\n",
      "54\n",
      "55\n",
      "56\n",
      "57\n",
      "58\n",
      "59\n",
      "60\n",
      "61\n",
      "62\n",
      "63\n",
      "64\n",
      "65\n",
      "66\n",
      "67\n",
      "68\n",
      "69\n",
      "70\n",
      "71\n",
      "72\n",
      "73\n",
      "74\n",
      "75\n",
      "76\n",
      "77\n",
      "78\n",
      "79\n",
      "80\n",
      "81\n",
      "82\n",
      "83\n",
      "84\n",
      "85\n",
      "86\n",
      "87\n",
      "88\n",
      "89\n"
     ]
    }
   ],
   "source": [
    "#We've already build indices for the chart. Now let's build the table with that information\n",
    "#This provides an easy way to find the location of a gene in the blast results worksheet\n",
    "bscols = []\n",
    "for i in range(2, obs.max_column+1):\n",
    "    bscols.append(obs.cell(row = 1, column = i).value)\n",
    "bsrows = []\n",
    "for i in range(2, obs.max_row+1):\n",
    "    bsrows.append(obs.cell(row = i, column = 1).value)\n",
    "    print(i)"
   ]
  },
  {
   "cell_type": "code",
   "execution_count": 8,
   "metadata": {
    "collapsed": false
   },
   "outputs": [],
   "source": [
    "#build a pandas database from the bs database\n",
    "\n",
    "bw = pd.ExcelFile('VFDB_PRO_BLAST_TABLE.xlsx')\n",
    "bs = bw.parse('In Text Figure')"
   ]
  },
  {
   "cell_type": "code",
   "execution_count": 9,
   "metadata": {
    "collapsed": false
   },
   "outputs": [
    {
     "name": "stdout",
     "output_type": "stream",
     "text": [
      "1\n"
     ]
    }
   ],
   "source": [
    "bs.head()\n",
    "print(bs.get_value('S01', 'espG'))\n",
    "#BOOYAKASHA!"
   ]
  },
  {
   "cell_type": "code",
   "execution_count": 10,
   "metadata": {
    "collapsed": false
   },
   "outputs": [],
   "source": [
    "wb = Workbook()\n",
    "ws = wb.active\n",
    "ws.name = ['PosterChart']\n",
    "#build row 1\n",
    "fillyes = PatternFill(fill_type='solid', start_color='0000FF', end_color='0000FF')\n",
    "fillno = PatternFill(fill_type='solid', start_color='CCCCCC', end_color='CCCCCC')\n",
    "\n",
    "ws['A2'].value = 'FDA Name'\n",
    "\n",
    "col = 2\n",
    "ro = 3\n",
    "vgcol = []\n",
    "for item in vglist:\n",
    "    if item[0].isupper():\n",
    "        ws.cell(column = col, row = 1).value = item\n",
    "    elif '/' in item:\n",
    "        continue\n",
    "    elif item not in bscols:\n",
    "        continue\n",
    "    else:\n",
    "        ws.cell(column = col, row = 2).value = item\n",
    "        col += 1\n",
    "        vgcol.append(item)\n",
    "\n",
    "for item in phyl:\n",
    "    ws.cell(column = 1, row = ro).value = item\n",
    "    for jtem in vgcol:\n",
    "        if '/' in jtem:\n",
    "            continue\n",
    "        if jtem[0].islower() and jtem in bscols:\n",
    "            bsc = bscols.index(jtem)+2\n",
    "            bsr = bsrows.index(item)+2\n",
    "            info = float(bs.get_value(item, jtem))\n",
    "            ws.cell(column = vgcol.index(jtem)+2, row = ro).value = info\n",
    "            if float(info) >= 0.6:\n",
    "                ws.cell(column = vgcol.index(jtem)+2, row = ro).fill = fillyes\n",
    "            else:\n",
    "                ws.cell(column = vgcol.index(jtem)+2, row = ro).fill = fillno\n",
    "        else:\n",
    "            continue\n",
    "    ro+=1\n",
    "wb.save(filename = 'Polished_table_pro_wS17.xlsx')\n",
    "                "
   ]
  },
  {
   "cell_type": "code",
   "execution_count": null,
   "metadata": {
    "collapsed": true
   },
   "outputs": [],
   "source": []
  }
 ],
 "metadata": {
  "kernelspec": {
   "display_name": "Python 3",
   "language": "python",
   "name": "python3"
  },
  "language_info": {
   "codemirror_mode": {
    "name": "ipython",
    "version": 3
   },
   "file_extension": ".py",
   "mimetype": "text/x-python",
   "name": "python",
   "nbconvert_exporter": "python",
   "pygments_lexer": "ipython3",
   "version": "3.5.0"
  }
 },
 "nbformat": 4,
 "nbformat_minor": 0
}
